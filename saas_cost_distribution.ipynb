{
 "cells": [
  {
   "cell_type": "code",
   "execution_count": 1,
   "id": "5767f387",
   "metadata": {},
   "outputs": [],
   "source": [
    "def cost_data_to_hierarchy(cost_data):\n",
    "    # Build a nested dict structure from cost_data\n",
    "    def insert_path(tree, path, value):\n",
    "        node = tree\n",
    "        for key in path[:-1]:\n",
    "            node = node.setdefault(key, {\"children\": {}, \"sum\": 0})\n",
    "            node[\"sum\"] += value\n",
    "            node = node[\"children\"]\n",
    "        leaf = path[-1]\n",
    "        node.setdefault(leaf, {\"children\": {}, \"sum\": 0})\n",
    "        node[leaf][\"sum\"] += value\n",
    "\n",
    "    # Build the tree and compute total sum\n",
    "    tree = {}\n",
    "    total = 0\n",
    "    for d in cost_data:\n",
    "        for k, v in d.items():\n",
    "            insert_path(tree, k, v)\n",
    "            total += v\n",
    "\n",
    "    # Recursively compute percentages and clean up\n",
    "    def compute_percentages(node, parent_sum, top_sum, is_top_level=False):\n",
    "        node_sum = node.get(\"sum\", 0)\n",
    "        # category_percentage: for top-level, use total; for others, use top_sum\n",
    "        if is_top_level:\n",
    "            node[\"category_percentage\"] = round(100 * node_sum / total, 1) if total else 100.0\n",
    "        else:\n",
    "            node[\"category_percentage\"] = round(100 * node_sum / top_sum, 1) if top_sum else 100.0\n",
    "        node[\"total_percentage\"] = round(100 * node_sum / total, 1) if total else 100.0\n",
    "        children = node.get(\"children\", {})\n",
    "        for key, child in children.items():\n",
    "            compute_percentages(child, node_sum, top_sum, False)\n",
    "        node.pop(\"sum\", None)\n",
    "        if children:\n",
    "            node[\"children\"] = dict(children)\n",
    "        else:\n",
    "            node.pop(\"children\", None)\n",
    "\n",
    "    # Compute percentages for all top-level nodes\n",
    "    for key, node in tree.items():\n",
    "        compute_percentages(node, total, node.get(\"sum\", 0), is_top_level=True)\n",
    "\n",
    "    return tree\n",
    "\n",
    "\n",
    "def plot_cost_treemap(cost_data, title):\n",
    "    cost_hierarchy = cost_data_to_hierarchy(cost_data)\n",
    "    import pandas as pd\n",
    "    import plotly.express as px\n",
    "\n",
    "    def build_data_from_hierarchy(hierarchy, cat1_label=None, cat2_label=None):\n",
    "        data = []\n",
    "        for key, value in hierarchy.items():\n",
    "            # If this node has children, recurse\n",
    "            if \"children\" in value:\n",
    "                label = key\n",
    "                if \"category_percentage\" in value:\n",
    "                    label += f\"({value['category_percentage']}%)\"\n",
    "                if cat1_label is None:\n",
    "                    # Top level: Global Costs or Per DB Costs\n",
    "                    data += build_data_from_hierarchy(value[\"children\"], label, None)\n",
    "                else:\n",
    "                    # Second level: Fixed Costs or Variable Costs\n",
    "                    data += build_data_from_hierarchy(value[\"children\"], cat1_label, key)\n",
    "            else:\n",
    "                # Leaf node\n",
    "                cat3_label = f\"{key.replace(' & ', '<br>& ').replace(' ', '<br>', 1)}<br>({value['category_percentage']}%)\"\n",
    "                data.append((cat1_label, cat2_label if cat2_label else \"\", cat3_label, value[\"total_percentage\"]))\n",
    "        return data\n",
    "\n",
    "    data = build_data_from_hierarchy(cost_hierarchy)\n",
    "    df = pd.DataFrame(data, columns=[\"Cat 1\", \"Cat 2\", \"Cat 3\", \"Percentage\"])\n",
    "    df[\"Label\"] = df[\"Cat 3\"]\n",
    "\n",
    "    fig = px.treemap(\n",
    "        df,\n",
    "        path=[\"Cat 1\", \"Cat 2\", \"Label\"],\n",
    "        values=\"Percentage\",\n",
    "        title=title\n",
    "    )\n",
    "    fig.update_layout(height=600)\n",
    "    fig.update_layout(width=1000)\n",
    "    fig.show()"
   ]
  },
  {
   "cell_type": "code",
   "execution_count": 2,
   "id": "67012450-a196-42e5-b9a2-8ae8ae623cc5",
   "metadata": {},
   "outputs": [
    {
     "data": {
      "application/vnd.plotly.v1+json": {
       "config": {
        "plotlyServerURL": "https://plot.ly"
       },
       "data": [
        {
         "branchvalues": "total",
         "domain": {
          "x": [
           0,
           1
          ],
          "y": [
           0,
           1
          ]
         },
         "hovertemplate": "labels=%{label}<br>Percentage=%{value}<br>parent=%{parent}<br>id=%{id}<extra></extra>",
         "ids": [
          "Global Costs(16.9%)//Monitoring<br>&<br>Alerting<br>(14.1%)",
          "Global Costs(16.9%)//Auth<br>(7.5%)",
          "Global Costs(16.9%)//Billing<br>(4.5%)",
          "Global Costs(16.9%)//Payment<br>(7.5%)",
          "Global Costs(16.9%)//prod-saas<br>(23.1%)",
          "Global Costs(16.9%)//Security,<br>intrusion detection, etc<br>(26.6%)",
          "Global Costs(16.9%)//VPC<br>(16.8%)",
          "Per DB Costs(83.1%)/Fixed Costs/EBS<br>(10.7%)",
          "Per DB Costs(83.1%)/Fixed Costs/Access<br>Node<br>(4.1%)",
          "Per DB Costs(83.1%)/Variable Costs/EC2<br>(55.8%)",
          "Per DB Costs(83.1%)/Variable Costs/DB<br>S3 Storage<br>(9.9%)",
          "Per DB Costs(83.1%)/Variable Costs/Traffic<br>(1.3%)",
          "Per DB Costs(83.1%)/Variable Costs/DB<br>S3 Storage API Requests<br>(7.9%)",
          "Per DB Costs(83.1%)/Variable Costs/Offline<br>Backups S3 Storage<br>(4.3%)",
          "Per DB Costs(83.1%)/Variable Costs/Offline<br>Backups S3 API Requests<br>(1.0%)",
          "Per DB Costs(83.1%)/Variable Costs/VPC<br>(4.5%)",
          "Per DB Costs(83.1%)/Variable Costs/Other<br>(0.3%)",
          "Global Costs(16.9%)/",
          "Per DB Costs(83.1%)/Fixed Costs",
          "Per DB Costs(83.1%)/Variable Costs",
          "Global Costs(16.9%)",
          "Per DB Costs(83.1%)"
         ],
         "labels": [
          "Monitoring<br>&<br>Alerting<br>(14.1%)",
          "Auth<br>(7.5%)",
          "Billing<br>(4.5%)",
          "Payment<br>(7.5%)",
          "prod-saas<br>(23.1%)",
          "Security,<br>intrusion detection, etc<br>(26.6%)",
          "VPC<br>(16.8%)",
          "EBS<br>(10.7%)",
          "Access<br>Node<br>(4.1%)",
          "EC2<br>(55.8%)",
          "DB<br>S3 Storage<br>(9.9%)",
          "Traffic<br>(1.3%)",
          "DB<br>S3 Storage API Requests<br>(7.9%)",
          "Offline<br>Backups S3 Storage<br>(4.3%)",
          "Offline<br>Backups S3 API Requests<br>(1.0%)",
          "VPC<br>(4.5%)",
          "Other<br>(0.3%)",
          "",
          "Fixed Costs",
          "Variable Costs",
          "Global Costs(16.9%)",
          "Per DB Costs(83.1%)"
         ],
         "name": "",
         "parents": [
          "Global Costs(16.9%)/",
          "Global Costs(16.9%)/",
          "Global Costs(16.9%)/",
          "Global Costs(16.9%)/",
          "Global Costs(16.9%)/",
          "Global Costs(16.9%)/",
          "Global Costs(16.9%)/",
          "Per DB Costs(83.1%)/Fixed Costs",
          "Per DB Costs(83.1%)/Fixed Costs",
          "Per DB Costs(83.1%)/Variable Costs",
          "Per DB Costs(83.1%)/Variable Costs",
          "Per DB Costs(83.1%)/Variable Costs",
          "Per DB Costs(83.1%)/Variable Costs",
          "Per DB Costs(83.1%)/Variable Costs",
          "Per DB Costs(83.1%)/Variable Costs",
          "Per DB Costs(83.1%)/Variable Costs",
          "Per DB Costs(83.1%)/Variable Costs",
          "Global Costs(16.9%)",
          "Per DB Costs(83.1%)",
          "Per DB Costs(83.1%)",
          "",
          ""
         ],
         "type": "treemap",
         "values": {
          "bdata": "MzMzMzMzA0DNzMzMzMz0P5qZmZmZmek/zczMzMzM9D8zMzMzMzMPQAAAAAAAABJAZmZmZmZmBkDNzMzMzMwhQDMzMzMzMwtAMzMzMzMzR0BmZmZmZmYgQJqZmZmZmfE/ZmZmZmZmGkAAAAAAAAAMQM3MzMzMzOw/ZmZmZmZmDkCamZmZmZnJPwAAAAAAADFAmpmZmZmZKEDNzMzMzKxRQAAAAAAAADFAAAAAAADAVEA=",
          "dtype": "f8"
         }
        }
       ],
       "layout": {
        "height": 600,
        "legend": {
         "tracegroupgap": 0
        },
        "template": {
         "data": {
          "bar": [
           {
            "error_x": {
             "color": "#2a3f5f"
            },
            "error_y": {
             "color": "#2a3f5f"
            },
            "marker": {
             "line": {
              "color": "#E5ECF6",
              "width": 0.5
             },
             "pattern": {
              "fillmode": "overlay",
              "size": 10,
              "solidity": 0.2
             }
            },
            "type": "bar"
           }
          ],
          "barpolar": [
           {
            "marker": {
             "line": {
              "color": "#E5ECF6",
              "width": 0.5
             },
             "pattern": {
              "fillmode": "overlay",
              "size": 10,
              "solidity": 0.2
             }
            },
            "type": "barpolar"
           }
          ],
          "carpet": [
           {
            "aaxis": {
             "endlinecolor": "#2a3f5f",
             "gridcolor": "white",
             "linecolor": "white",
             "minorgridcolor": "white",
             "startlinecolor": "#2a3f5f"
            },
            "baxis": {
             "endlinecolor": "#2a3f5f",
             "gridcolor": "white",
             "linecolor": "white",
             "minorgridcolor": "white",
             "startlinecolor": "#2a3f5f"
            },
            "type": "carpet"
           }
          ],
          "choropleth": [
           {
            "colorbar": {
             "outlinewidth": 0,
             "ticks": ""
            },
            "type": "choropleth"
           }
          ],
          "contour": [
           {
            "colorbar": {
             "outlinewidth": 0,
             "ticks": ""
            },
            "colorscale": [
             [
              0,
              "#0d0887"
             ],
             [
              0.1111111111111111,
              "#46039f"
             ],
             [
              0.2222222222222222,
              "#7201a8"
             ],
             [
              0.3333333333333333,
              "#9c179e"
             ],
             [
              0.4444444444444444,
              "#bd3786"
             ],
             [
              0.5555555555555556,
              "#d8576b"
             ],
             [
              0.6666666666666666,
              "#ed7953"
             ],
             [
              0.7777777777777778,
              "#fb9f3a"
             ],
             [
              0.8888888888888888,
              "#fdca26"
             ],
             [
              1,
              "#f0f921"
             ]
            ],
            "type": "contour"
           }
          ],
          "contourcarpet": [
           {
            "colorbar": {
             "outlinewidth": 0,
             "ticks": ""
            },
            "type": "contourcarpet"
           }
          ],
          "heatmap": [
           {
            "colorbar": {
             "outlinewidth": 0,
             "ticks": ""
            },
            "colorscale": [
             [
              0,
              "#0d0887"
             ],
             [
              0.1111111111111111,
              "#46039f"
             ],
             [
              0.2222222222222222,
              "#7201a8"
             ],
             [
              0.3333333333333333,
              "#9c179e"
             ],
             [
              0.4444444444444444,
              "#bd3786"
             ],
             [
              0.5555555555555556,
              "#d8576b"
             ],
             [
              0.6666666666666666,
              "#ed7953"
             ],
             [
              0.7777777777777778,
              "#fb9f3a"
             ],
             [
              0.8888888888888888,
              "#fdca26"
             ],
             [
              1,
              "#f0f921"
             ]
            ],
            "type": "heatmap"
           }
          ],
          "histogram": [
           {
            "marker": {
             "pattern": {
              "fillmode": "overlay",
              "size": 10,
              "solidity": 0.2
             }
            },
            "type": "histogram"
           }
          ],
          "histogram2d": [
           {
            "colorbar": {
             "outlinewidth": 0,
             "ticks": ""
            },
            "colorscale": [
             [
              0,
              "#0d0887"
             ],
             [
              0.1111111111111111,
              "#46039f"
             ],
             [
              0.2222222222222222,
              "#7201a8"
             ],
             [
              0.3333333333333333,
              "#9c179e"
             ],
             [
              0.4444444444444444,
              "#bd3786"
             ],
             [
              0.5555555555555556,
              "#d8576b"
             ],
             [
              0.6666666666666666,
              "#ed7953"
             ],
             [
              0.7777777777777778,
              "#fb9f3a"
             ],
             [
              0.8888888888888888,
              "#fdca26"
             ],
             [
              1,
              "#f0f921"
             ]
            ],
            "type": "histogram2d"
           }
          ],
          "histogram2dcontour": [
           {
            "colorbar": {
             "outlinewidth": 0,
             "ticks": ""
            },
            "colorscale": [
             [
              0,
              "#0d0887"
             ],
             [
              0.1111111111111111,
              "#46039f"
             ],
             [
              0.2222222222222222,
              "#7201a8"
             ],
             [
              0.3333333333333333,
              "#9c179e"
             ],
             [
              0.4444444444444444,
              "#bd3786"
             ],
             [
              0.5555555555555556,
              "#d8576b"
             ],
             [
              0.6666666666666666,
              "#ed7953"
             ],
             [
              0.7777777777777778,
              "#fb9f3a"
             ],
             [
              0.8888888888888888,
              "#fdca26"
             ],
             [
              1,
              "#f0f921"
             ]
            ],
            "type": "histogram2dcontour"
           }
          ],
          "mesh3d": [
           {
            "colorbar": {
             "outlinewidth": 0,
             "ticks": ""
            },
            "type": "mesh3d"
           }
          ],
          "parcoords": [
           {
            "line": {
             "colorbar": {
              "outlinewidth": 0,
              "ticks": ""
             }
            },
            "type": "parcoords"
           }
          ],
          "pie": [
           {
            "automargin": true,
            "type": "pie"
           }
          ],
          "scatter": [
           {
            "fillpattern": {
             "fillmode": "overlay",
             "size": 10,
             "solidity": 0.2
            },
            "type": "scatter"
           }
          ],
          "scatter3d": [
           {
            "line": {
             "colorbar": {
              "outlinewidth": 0,
              "ticks": ""
             }
            },
            "marker": {
             "colorbar": {
              "outlinewidth": 0,
              "ticks": ""
             }
            },
            "type": "scatter3d"
           }
          ],
          "scattercarpet": [
           {
            "marker": {
             "colorbar": {
              "outlinewidth": 0,
              "ticks": ""
             }
            },
            "type": "scattercarpet"
           }
          ],
          "scattergeo": [
           {
            "marker": {
             "colorbar": {
              "outlinewidth": 0,
              "ticks": ""
             }
            },
            "type": "scattergeo"
           }
          ],
          "scattergl": [
           {
            "marker": {
             "colorbar": {
              "outlinewidth": 0,
              "ticks": ""
             }
            },
            "type": "scattergl"
           }
          ],
          "scattermap": [
           {
            "marker": {
             "colorbar": {
              "outlinewidth": 0,
              "ticks": ""
             }
            },
            "type": "scattermap"
           }
          ],
          "scattermapbox": [
           {
            "marker": {
             "colorbar": {
              "outlinewidth": 0,
              "ticks": ""
             }
            },
            "type": "scattermapbox"
           }
          ],
          "scatterpolar": [
           {
            "marker": {
             "colorbar": {
              "outlinewidth": 0,
              "ticks": ""
             }
            },
            "type": "scatterpolar"
           }
          ],
          "scatterpolargl": [
           {
            "marker": {
             "colorbar": {
              "outlinewidth": 0,
              "ticks": ""
             }
            },
            "type": "scatterpolargl"
           }
          ],
          "scatterternary": [
           {
            "marker": {
             "colorbar": {
              "outlinewidth": 0,
              "ticks": ""
             }
            },
            "type": "scatterternary"
           }
          ],
          "surface": [
           {
            "colorbar": {
             "outlinewidth": 0,
             "ticks": ""
            },
            "colorscale": [
             [
              0,
              "#0d0887"
             ],
             [
              0.1111111111111111,
              "#46039f"
             ],
             [
              0.2222222222222222,
              "#7201a8"
             ],
             [
              0.3333333333333333,
              "#9c179e"
             ],
             [
              0.4444444444444444,
              "#bd3786"
             ],
             [
              0.5555555555555556,
              "#d8576b"
             ],
             [
              0.6666666666666666,
              "#ed7953"
             ],
             [
              0.7777777777777778,
              "#fb9f3a"
             ],
             [
              0.8888888888888888,
              "#fdca26"
             ],
             [
              1,
              "#f0f921"
             ]
            ],
            "type": "surface"
           }
          ],
          "table": [
           {
            "cells": {
             "fill": {
              "color": "#EBF0F8"
             },
             "line": {
              "color": "white"
             }
            },
            "header": {
             "fill": {
              "color": "#C8D4E3"
             },
             "line": {
              "color": "white"
             }
            },
            "type": "table"
           }
          ]
         },
         "layout": {
          "annotationdefaults": {
           "arrowcolor": "#2a3f5f",
           "arrowhead": 0,
           "arrowwidth": 1
          },
          "autotypenumbers": "strict",
          "coloraxis": {
           "colorbar": {
            "outlinewidth": 0,
            "ticks": ""
           }
          },
          "colorscale": {
           "diverging": [
            [
             0,
             "#8e0152"
            ],
            [
             0.1,
             "#c51b7d"
            ],
            [
             0.2,
             "#de77ae"
            ],
            [
             0.3,
             "#f1b6da"
            ],
            [
             0.4,
             "#fde0ef"
            ],
            [
             0.5,
             "#f7f7f7"
            ],
            [
             0.6,
             "#e6f5d0"
            ],
            [
             0.7,
             "#b8e186"
            ],
            [
             0.8,
             "#7fbc41"
            ],
            [
             0.9,
             "#4d9221"
            ],
            [
             1,
             "#276419"
            ]
           ],
           "sequential": [
            [
             0,
             "#0d0887"
            ],
            [
             0.1111111111111111,
             "#46039f"
            ],
            [
             0.2222222222222222,
             "#7201a8"
            ],
            [
             0.3333333333333333,
             "#9c179e"
            ],
            [
             0.4444444444444444,
             "#bd3786"
            ],
            [
             0.5555555555555556,
             "#d8576b"
            ],
            [
             0.6666666666666666,
             "#ed7953"
            ],
            [
             0.7777777777777778,
             "#fb9f3a"
            ],
            [
             0.8888888888888888,
             "#fdca26"
            ],
            [
             1,
             "#f0f921"
            ]
           ],
           "sequentialminus": [
            [
             0,
             "#0d0887"
            ],
            [
             0.1111111111111111,
             "#46039f"
            ],
            [
             0.2222222222222222,
             "#7201a8"
            ],
            [
             0.3333333333333333,
             "#9c179e"
            ],
            [
             0.4444444444444444,
             "#bd3786"
            ],
            [
             0.5555555555555556,
             "#d8576b"
            ],
            [
             0.6666666666666666,
             "#ed7953"
            ],
            [
             0.7777777777777778,
             "#fb9f3a"
            ],
            [
             0.8888888888888888,
             "#fdca26"
            ],
            [
             1,
             "#f0f921"
            ]
           ]
          },
          "colorway": [
           "#636efa",
           "#EF553B",
           "#00cc96",
           "#ab63fa",
           "#FFA15A",
           "#19d3f3",
           "#FF6692",
           "#B6E880",
           "#FF97FF",
           "#FECB52"
          ],
          "font": {
           "color": "#2a3f5f"
          },
          "geo": {
           "bgcolor": "white",
           "lakecolor": "white",
           "landcolor": "#E5ECF6",
           "showlakes": true,
           "showland": true,
           "subunitcolor": "white"
          },
          "hoverlabel": {
           "align": "left"
          },
          "hovermode": "closest",
          "mapbox": {
           "style": "light"
          },
          "paper_bgcolor": "white",
          "plot_bgcolor": "#E5ECF6",
          "polar": {
           "angularaxis": {
            "gridcolor": "white",
            "linecolor": "white",
            "ticks": ""
           },
           "bgcolor": "#E5ECF6",
           "radialaxis": {
            "gridcolor": "white",
            "linecolor": "white",
            "ticks": ""
           }
          },
          "scene": {
           "xaxis": {
            "backgroundcolor": "#E5ECF6",
            "gridcolor": "white",
            "gridwidth": 2,
            "linecolor": "white",
            "showbackground": true,
            "ticks": "",
            "zerolinecolor": "white"
           },
           "yaxis": {
            "backgroundcolor": "#E5ECF6",
            "gridcolor": "white",
            "gridwidth": 2,
            "linecolor": "white",
            "showbackground": true,
            "ticks": "",
            "zerolinecolor": "white"
           },
           "zaxis": {
            "backgroundcolor": "#E5ECF6",
            "gridcolor": "white",
            "gridwidth": 2,
            "linecolor": "white",
            "showbackground": true,
            "ticks": "",
            "zerolinecolor": "white"
           }
          },
          "shapedefaults": {
           "line": {
            "color": "#2a3f5f"
           }
          },
          "ternary": {
           "aaxis": {
            "gridcolor": "white",
            "linecolor": "white",
            "ticks": ""
           },
           "baxis": {
            "gridcolor": "white",
            "linecolor": "white",
            "ticks": ""
           },
           "bgcolor": "#E5ECF6",
           "caxis": {
            "gridcolor": "white",
            "linecolor": "white",
            "ticks": ""
           }
          },
          "title": {
           "x": 0.05
          },
          "xaxis": {
           "automargin": true,
           "gridcolor": "white",
           "linecolor": "white",
           "ticks": "",
           "title": {
            "standoff": 15
           },
           "zerolinecolor": "white",
           "zerolinewidth": 2
          },
          "yaxis": {
           "automargin": true,
           "gridcolor": "white",
           "linecolor": "white",
           "ticks": "",
           "title": {
            "standoff": 15
           },
           "zerolinecolor": "white",
           "zerolinewidth": 2
          }
         }
        },
        "title": {
         "text": "SaaS Cost Breakdown Jan - May"
        },
        "width": 1000
       }
      }
     },
     "metadata": {},
     "output_type": "display_data"
    }
   ],
   "source": [
    "\n",
    "cost_data = [\n",
    "    {(\"Global Costs\", \"Monitoring & Alerting\"): 11285.00},\n",
    "    {(\"Global Costs\", \"Auth\"): 5997.50},\n",
    "    {(\"Global Costs\", \"Billing\"): 3594.00},\n",
    "    {(\"Global Costs\", \"Payment\"): 5997.50},\n",
    "    {(\"Global Costs\", \"prod-saas\"): 18479.44},\n",
    "    {(\"Global Costs\", \"Security, intrusion detection, etc\"): 21266.29},\n",
    "    {(\"Global Costs\", \"VPC\"): 13409.11},\n",
    "    {(\"Per DB Costs\", \"Fixed Costs\", \"EBS\"): 42155.73},\n",
    "    {(\"Per DB Costs\", \"Fixed Costs\", \"Access Node\"): 16262.51},\n",
    "    {(\"Per DB Costs\", \"Variable Costs\", \"EC2\"): 219295.62},\n",
    "    {(\"Per DB Costs\", \"Variable Costs\", \"DB S3 Storage\"): 38972.10},\n",
    "    {(\"Per DB Costs\", \"Variable Costs\", \"Traffic\"): 5280.85},\n",
    "    {(\"Per DB Costs\", \"Variable Costs\", \"DB S3 Storage API Requests\"): 31056.92},\n",
    "    {(\"Per DB Costs\", \"Variable Costs\", \"Offline Backups S3 Storage\"): 16738.38},\n",
    "    {(\"Per DB Costs\", \"Variable Costs\", \"Offline Backups S3 API Requests\"): 4108.13},\n",
    "    {(\"Per DB Costs\", \"Variable Costs\", \"VPC\"): 17852.11},\n",
    "    {(\"Per DB Costs\", \"Variable Costs\", \"Other\"): 1084.30}\n",
    "]\n",
    "\n",
    "\n",
    "plot_cost_treemap(cost_data, \"SaaS Cost Breakdown Jan - May\")"
   ]
  },
  {
   "cell_type": "code",
   "execution_count": 3,
   "id": "55b89306-8a27-4c06-ad97-32550de8d811",
   "metadata": {},
   "outputs": [
    {
     "data": {
      "application/vnd.plotly.v1+json": {
       "config": {
        "plotlyServerURL": "https://plot.ly"
       },
       "data": [
        {
         "branchvalues": "total",
         "domain": {
          "x": [
           0,
           1
          ],
          "y": [
           0,
           1
          ]
         },
         "hovertemplate": "labels=%{label}<br>Percentage=%{value}<br>parent=%{parent}<br>id=%{id}<extra></extra>",
         "ids": [
          "Global Costs(31.7%)//Monitoring<br>&<br>Alerting<br>(15.2%)",
          "Global Costs(31.7%)//Auth<br>(3.9%)",
          "Global Costs(31.7%)//Billing<br>(19.0%)",
          "Global Costs(31.7%)//Payment<br>(3.9%)",
          "Global Costs(31.7%)//prod-saas<br>(20.5%)",
          "Global Costs(31.7%)//Security<br>(16.8%)",
          "Global Costs(31.7%)//VPC<br>(16.8%)",
          "Global Costs(31.7%)//Other<br>(4.0%)",
          "Per DB Costs(68.3%)/Fixed Costs/EBS<br>(23.4%)",
          "Per DB Costs(68.3%)/Fixed Costs/Access<br>Node<br>(10.2%)",
          "Per DB Costs(68.3%)/Variable Costs/EC2<br>(22.2%)",
          "Per DB Costs(68.3%)/Variable Costs/DB<br>S3 Storage<br>(7.5%)",
          "Per DB Costs(68.3%)/Variable Costs/Traffic<br>(1.9%)",
          "Per DB Costs(68.3%)/Variable Costs/DB<br>S3 Storage API Requests<br>(13.9%)",
          "Per DB Costs(68.3%)/Variable Costs/Offline<br>Backup S3 Storage<br>(7.1%)",
          "Per DB Costs(68.3%)/Variable Costs/Offline<br>Backup S3 API Request<br>(2.4%)",
          "Per DB Costs(68.3%)/Variable Costs/VPC<br>(10.5%)",
          "Per DB Costs(68.3%)/Variable Costs/Other<br>(0.9%)",
          "Global Costs(31.7%)/",
          "Per DB Costs(68.3%)/Fixed Costs",
          "Per DB Costs(68.3%)/Variable Costs",
          "Global Costs(31.7%)",
          "Per DB Costs(68.3%)"
         ],
         "labels": [
          "Monitoring<br>&<br>Alerting<br>(15.2%)",
          "Auth<br>(3.9%)",
          "Billing<br>(19.0%)",
          "Payment<br>(3.9%)",
          "prod-saas<br>(20.5%)",
          "Security<br>(16.8%)",
          "VPC<br>(16.8%)",
          "Other<br>(4.0%)",
          "EBS<br>(23.4%)",
          "Access<br>Node<br>(10.2%)",
          "EC2<br>(22.2%)",
          "DB<br>S3 Storage<br>(7.5%)",
          "Traffic<br>(1.9%)",
          "DB<br>S3 Storage API Requests<br>(13.9%)",
          "Offline<br>Backup S3 Storage<br>(7.1%)",
          "Offline<br>Backup S3 API Request<br>(2.4%)",
          "VPC<br>(10.5%)",
          "Other<br>(0.9%)",
          "",
          "Fixed Costs",
          "Variable Costs",
          "Global Costs(31.7%)",
          "Per DB Costs(68.3%)"
         ],
         "name": "",
         "parents": [
          "Global Costs(31.7%)/",
          "Global Costs(31.7%)/",
          "Global Costs(31.7%)/",
          "Global Costs(31.7%)/",
          "Global Costs(31.7%)/",
          "Global Costs(31.7%)/",
          "Global Costs(31.7%)/",
          "Global Costs(31.7%)/",
          "Per DB Costs(68.3%)/Fixed Costs",
          "Per DB Costs(68.3%)/Fixed Costs",
          "Per DB Costs(68.3%)/Variable Costs",
          "Per DB Costs(68.3%)/Variable Costs",
          "Per DB Costs(68.3%)/Variable Costs",
          "Per DB Costs(68.3%)/Variable Costs",
          "Per DB Costs(68.3%)/Variable Costs",
          "Per DB Costs(68.3%)/Variable Costs",
          "Per DB Costs(68.3%)/Variable Costs",
          "Per DB Costs(68.3%)/Variable Costs",
          "Global Costs(31.7%)",
          "Per DB Costs(68.3%)",
          "Per DB Costs(68.3%)",
          "",
          ""
         ],
         "type": "treemap",
         "values": {
          "bdata": "MzMzMzMzE0AzMzMzMzPzPwAAAAAAABhAMzMzMzMz8z8AAAAAAAAaQDMzMzMzMxVAMzMzMzMzFUDNzMzMzMz0PwAAAAAAADBAAAAAAAAAHEBmZmZmZmYuQGZmZmZmZhRAzczMzMzM9D8AAAAAAAAjQDMzMzMzMxNAMzMzMzMz+z/NzMzMzMwcQDMzMzMzM+M/mpmZmZmZP0AAAAAAAAA3QDMzMzMzs0ZAmpmZmZmZP0CamZmZmRlRQA==",
          "dtype": "f8"
         }
        }
       ],
       "layout": {
        "height": 600,
        "legend": {
         "tracegroupgap": 0
        },
        "template": {
         "data": {
          "bar": [
           {
            "error_x": {
             "color": "#2a3f5f"
            },
            "error_y": {
             "color": "#2a3f5f"
            },
            "marker": {
             "line": {
              "color": "#E5ECF6",
              "width": 0.5
             },
             "pattern": {
              "fillmode": "overlay",
              "size": 10,
              "solidity": 0.2
             }
            },
            "type": "bar"
           }
          ],
          "barpolar": [
           {
            "marker": {
             "line": {
              "color": "#E5ECF6",
              "width": 0.5
             },
             "pattern": {
              "fillmode": "overlay",
              "size": 10,
              "solidity": 0.2
             }
            },
            "type": "barpolar"
           }
          ],
          "carpet": [
           {
            "aaxis": {
             "endlinecolor": "#2a3f5f",
             "gridcolor": "white",
             "linecolor": "white",
             "minorgridcolor": "white",
             "startlinecolor": "#2a3f5f"
            },
            "baxis": {
             "endlinecolor": "#2a3f5f",
             "gridcolor": "white",
             "linecolor": "white",
             "minorgridcolor": "white",
             "startlinecolor": "#2a3f5f"
            },
            "type": "carpet"
           }
          ],
          "choropleth": [
           {
            "colorbar": {
             "outlinewidth": 0,
             "ticks": ""
            },
            "type": "choropleth"
           }
          ],
          "contour": [
           {
            "colorbar": {
             "outlinewidth": 0,
             "ticks": ""
            },
            "colorscale": [
             [
              0,
              "#0d0887"
             ],
             [
              0.1111111111111111,
              "#46039f"
             ],
             [
              0.2222222222222222,
              "#7201a8"
             ],
             [
              0.3333333333333333,
              "#9c179e"
             ],
             [
              0.4444444444444444,
              "#bd3786"
             ],
             [
              0.5555555555555556,
              "#d8576b"
             ],
             [
              0.6666666666666666,
              "#ed7953"
             ],
             [
              0.7777777777777778,
              "#fb9f3a"
             ],
             [
              0.8888888888888888,
              "#fdca26"
             ],
             [
              1,
              "#f0f921"
             ]
            ],
            "type": "contour"
           }
          ],
          "contourcarpet": [
           {
            "colorbar": {
             "outlinewidth": 0,
             "ticks": ""
            },
            "type": "contourcarpet"
           }
          ],
          "heatmap": [
           {
            "colorbar": {
             "outlinewidth": 0,
             "ticks": ""
            },
            "colorscale": [
             [
              0,
              "#0d0887"
             ],
             [
              0.1111111111111111,
              "#46039f"
             ],
             [
              0.2222222222222222,
              "#7201a8"
             ],
             [
              0.3333333333333333,
              "#9c179e"
             ],
             [
              0.4444444444444444,
              "#bd3786"
             ],
             [
              0.5555555555555556,
              "#d8576b"
             ],
             [
              0.6666666666666666,
              "#ed7953"
             ],
             [
              0.7777777777777778,
              "#fb9f3a"
             ],
             [
              0.8888888888888888,
              "#fdca26"
             ],
             [
              1,
              "#f0f921"
             ]
            ],
            "type": "heatmap"
           }
          ],
          "histogram": [
           {
            "marker": {
             "pattern": {
              "fillmode": "overlay",
              "size": 10,
              "solidity": 0.2
             }
            },
            "type": "histogram"
           }
          ],
          "histogram2d": [
           {
            "colorbar": {
             "outlinewidth": 0,
             "ticks": ""
            },
            "colorscale": [
             [
              0,
              "#0d0887"
             ],
             [
              0.1111111111111111,
              "#46039f"
             ],
             [
              0.2222222222222222,
              "#7201a8"
             ],
             [
              0.3333333333333333,
              "#9c179e"
             ],
             [
              0.4444444444444444,
              "#bd3786"
             ],
             [
              0.5555555555555556,
              "#d8576b"
             ],
             [
              0.6666666666666666,
              "#ed7953"
             ],
             [
              0.7777777777777778,
              "#fb9f3a"
             ],
             [
              0.8888888888888888,
              "#fdca26"
             ],
             [
              1,
              "#f0f921"
             ]
            ],
            "type": "histogram2d"
           }
          ],
          "histogram2dcontour": [
           {
            "colorbar": {
             "outlinewidth": 0,
             "ticks": ""
            },
            "colorscale": [
             [
              0,
              "#0d0887"
             ],
             [
              0.1111111111111111,
              "#46039f"
             ],
             [
              0.2222222222222222,
              "#7201a8"
             ],
             [
              0.3333333333333333,
              "#9c179e"
             ],
             [
              0.4444444444444444,
              "#bd3786"
             ],
             [
              0.5555555555555556,
              "#d8576b"
             ],
             [
              0.6666666666666666,
              "#ed7953"
             ],
             [
              0.7777777777777778,
              "#fb9f3a"
             ],
             [
              0.8888888888888888,
              "#fdca26"
             ],
             [
              1,
              "#f0f921"
             ]
            ],
            "type": "histogram2dcontour"
           }
          ],
          "mesh3d": [
           {
            "colorbar": {
             "outlinewidth": 0,
             "ticks": ""
            },
            "type": "mesh3d"
           }
          ],
          "parcoords": [
           {
            "line": {
             "colorbar": {
              "outlinewidth": 0,
              "ticks": ""
             }
            },
            "type": "parcoords"
           }
          ],
          "pie": [
           {
            "automargin": true,
            "type": "pie"
           }
          ],
          "scatter": [
           {
            "fillpattern": {
             "fillmode": "overlay",
             "size": 10,
             "solidity": 0.2
            },
            "type": "scatter"
           }
          ],
          "scatter3d": [
           {
            "line": {
             "colorbar": {
              "outlinewidth": 0,
              "ticks": ""
             }
            },
            "marker": {
             "colorbar": {
              "outlinewidth": 0,
              "ticks": ""
             }
            },
            "type": "scatter3d"
           }
          ],
          "scattercarpet": [
           {
            "marker": {
             "colorbar": {
              "outlinewidth": 0,
              "ticks": ""
             }
            },
            "type": "scattercarpet"
           }
          ],
          "scattergeo": [
           {
            "marker": {
             "colorbar": {
              "outlinewidth": 0,
              "ticks": ""
             }
            },
            "type": "scattergeo"
           }
          ],
          "scattergl": [
           {
            "marker": {
             "colorbar": {
              "outlinewidth": 0,
              "ticks": ""
             }
            },
            "type": "scattergl"
           }
          ],
          "scattermap": [
           {
            "marker": {
             "colorbar": {
              "outlinewidth": 0,
              "ticks": ""
             }
            },
            "type": "scattermap"
           }
          ],
          "scattermapbox": [
           {
            "marker": {
             "colorbar": {
              "outlinewidth": 0,
              "ticks": ""
             }
            },
            "type": "scattermapbox"
           }
          ],
          "scatterpolar": [
           {
            "marker": {
             "colorbar": {
              "outlinewidth": 0,
              "ticks": ""
             }
            },
            "type": "scatterpolar"
           }
          ],
          "scatterpolargl": [
           {
            "marker": {
             "colorbar": {
              "outlinewidth": 0,
              "ticks": ""
             }
            },
            "type": "scatterpolargl"
           }
          ],
          "scatterternary": [
           {
            "marker": {
             "colorbar": {
              "outlinewidth": 0,
              "ticks": ""
             }
            },
            "type": "scatterternary"
           }
          ],
          "surface": [
           {
            "colorbar": {
             "outlinewidth": 0,
             "ticks": ""
            },
            "colorscale": [
             [
              0,
              "#0d0887"
             ],
             [
              0.1111111111111111,
              "#46039f"
             ],
             [
              0.2222222222222222,
              "#7201a8"
             ],
             [
              0.3333333333333333,
              "#9c179e"
             ],
             [
              0.4444444444444444,
              "#bd3786"
             ],
             [
              0.5555555555555556,
              "#d8576b"
             ],
             [
              0.6666666666666666,
              "#ed7953"
             ],
             [
              0.7777777777777778,
              "#fb9f3a"
             ],
             [
              0.8888888888888888,
              "#fdca26"
             ],
             [
              1,
              "#f0f921"
             ]
            ],
            "type": "surface"
           }
          ],
          "table": [
           {
            "cells": {
             "fill": {
              "color": "#EBF0F8"
             },
             "line": {
              "color": "white"
             }
            },
            "header": {
             "fill": {
              "color": "#C8D4E3"
             },
             "line": {
              "color": "white"
             }
            },
            "type": "table"
           }
          ]
         },
         "layout": {
          "annotationdefaults": {
           "arrowcolor": "#2a3f5f",
           "arrowhead": 0,
           "arrowwidth": 1
          },
          "autotypenumbers": "strict",
          "coloraxis": {
           "colorbar": {
            "outlinewidth": 0,
            "ticks": ""
           }
          },
          "colorscale": {
           "diverging": [
            [
             0,
             "#8e0152"
            ],
            [
             0.1,
             "#c51b7d"
            ],
            [
             0.2,
             "#de77ae"
            ],
            [
             0.3,
             "#f1b6da"
            ],
            [
             0.4,
             "#fde0ef"
            ],
            [
             0.5,
             "#f7f7f7"
            ],
            [
             0.6,
             "#e6f5d0"
            ],
            [
             0.7,
             "#b8e186"
            ],
            [
             0.8,
             "#7fbc41"
            ],
            [
             0.9,
             "#4d9221"
            ],
            [
             1,
             "#276419"
            ]
           ],
           "sequential": [
            [
             0,
             "#0d0887"
            ],
            [
             0.1111111111111111,
             "#46039f"
            ],
            [
             0.2222222222222222,
             "#7201a8"
            ],
            [
             0.3333333333333333,
             "#9c179e"
            ],
            [
             0.4444444444444444,
             "#bd3786"
            ],
            [
             0.5555555555555556,
             "#d8576b"
            ],
            [
             0.6666666666666666,
             "#ed7953"
            ],
            [
             0.7777777777777778,
             "#fb9f3a"
            ],
            [
             0.8888888888888888,
             "#fdca26"
            ],
            [
             1,
             "#f0f921"
            ]
           ],
           "sequentialminus": [
            [
             0,
             "#0d0887"
            ],
            [
             0.1111111111111111,
             "#46039f"
            ],
            [
             0.2222222222222222,
             "#7201a8"
            ],
            [
             0.3333333333333333,
             "#9c179e"
            ],
            [
             0.4444444444444444,
             "#bd3786"
            ],
            [
             0.5555555555555556,
             "#d8576b"
            ],
            [
             0.6666666666666666,
             "#ed7953"
            ],
            [
             0.7777777777777778,
             "#fb9f3a"
            ],
            [
             0.8888888888888888,
             "#fdca26"
            ],
            [
             1,
             "#f0f921"
            ]
           ]
          },
          "colorway": [
           "#636efa",
           "#EF553B",
           "#00cc96",
           "#ab63fa",
           "#FFA15A",
           "#19d3f3",
           "#FF6692",
           "#B6E880",
           "#FF97FF",
           "#FECB52"
          ],
          "font": {
           "color": "#2a3f5f"
          },
          "geo": {
           "bgcolor": "white",
           "lakecolor": "white",
           "landcolor": "#E5ECF6",
           "showlakes": true,
           "showland": true,
           "subunitcolor": "white"
          },
          "hoverlabel": {
           "align": "left"
          },
          "hovermode": "closest",
          "mapbox": {
           "style": "light"
          },
          "paper_bgcolor": "white",
          "plot_bgcolor": "#E5ECF6",
          "polar": {
           "angularaxis": {
            "gridcolor": "white",
            "linecolor": "white",
            "ticks": ""
           },
           "bgcolor": "#E5ECF6",
           "radialaxis": {
            "gridcolor": "white",
            "linecolor": "white",
            "ticks": ""
           }
          },
          "scene": {
           "xaxis": {
            "backgroundcolor": "#E5ECF6",
            "gridcolor": "white",
            "gridwidth": 2,
            "linecolor": "white",
            "showbackground": true,
            "ticks": "",
            "zerolinecolor": "white"
           },
           "yaxis": {
            "backgroundcolor": "#E5ECF6",
            "gridcolor": "white",
            "gridwidth": 2,
            "linecolor": "white",
            "showbackground": true,
            "ticks": "",
            "zerolinecolor": "white"
           },
           "zaxis": {
            "backgroundcolor": "#E5ECF6",
            "gridcolor": "white",
            "gridwidth": 2,
            "linecolor": "white",
            "showbackground": true,
            "ticks": "",
            "zerolinecolor": "white"
           }
          },
          "shapedefaults": {
           "line": {
            "color": "#2a3f5f"
           }
          },
          "ternary": {
           "aaxis": {
            "gridcolor": "white",
            "linecolor": "white",
            "ticks": ""
           },
           "baxis": {
            "gridcolor": "white",
            "linecolor": "white",
            "ticks": ""
           },
           "bgcolor": "#E5ECF6",
           "caxis": {
            "gridcolor": "white",
            "linecolor": "white",
            "ticks": ""
           }
          },
          "title": {
           "x": 0.05
          },
          "xaxis": {
           "automargin": true,
           "gridcolor": "white",
           "linecolor": "white",
           "ticks": "",
           "title": {
            "standoff": 15
           },
           "zerolinecolor": "white",
           "zerolinewidth": 2
          },
          "yaxis": {
           "automargin": true,
           "gridcolor": "white",
           "linecolor": "white",
           "ticks": "",
           "title": {
            "standoff": 15
           },
           "zerolinecolor": "white",
           "zerolinewidth": 2
          }
         }
        },
        "title": {
         "text": "SaaS Cost Breakdown May - June"
        },
        "width": 1000
       }
      }
     },
     "metadata": {},
     "output_type": "display_data"
    }
   ],
   "source": [
    "cost_data = [\n",
    "    {(\"Global Costs\", \"Monitoring & Alerting\"): 4736.83},\n",
    "    {(\"Global Costs\", \"Auth\"): 1198.00},\n",
    "    {(\"Global Costs\", \"Billing\"): 5916.67},\n",
    "    {(\"Global Costs\", \"Payment\"): 1198.00},\n",
    "    {(\"Global Costs\", \"prod-saas\"): 6379.77},\n",
    "    {(\"Global Costs\", \"Security\"): 5217.81},\n",
    "    {(\"Global Costs\", \"VPC\"): 5214.60},\n",
    "    {(\"Global Costs\", \"Other\"): 1247.66},\n",
    "    {(\"Per DB Costs\", \"Fixed Costs\", \"EBS\"): 15672.85},\n",
    "    {(\"Per DB Costs\", \"Fixed Costs\", \"Access Node\"): 6858.97},\n",
    "    {(\"Per DB Costs\", \"Variable Costs\", \"EC2\"): 14900.85},\n",
    "    {(\"Per DB Costs\", \"Variable Costs\", \"DB S3 Storage\"): 5032.65},\n",
    "    {(\"Per DB Costs\", \"Variable Costs\", \"Traffic\"): 1258.20},\n",
    "    {(\"Per DB Costs\", \"Variable Costs\", \"DB S3 Storage API Requests\"): 9302.15},\n",
    "    {(\"Per DB Costs\", \"Variable Costs\", \"Offline Backup S3 Storage\"): 4738.46},\n",
    "    {(\"Per DB Costs\", \"Variable Costs\", \"Offline Backup S3 API Request\"): 1622.06},\n",
    "    {(\"Per DB Costs\", \"Variable Costs\", \"VPC\"): 7036.67},\n",
    "    {(\"Per DB Costs\", \"Variable Costs\", \"Other\"): 576.95}\n",
    "]\n",
    "\n",
    "\n",
    "\n",
    "plot_cost_treemap(cost_data, \"SaaS Cost Breakdown May - June\")"
   ]
  },
  {
   "cell_type": "code",
   "execution_count": null,
   "id": "536b0d32-19ec-4de9-97eb-3c059fe31753",
   "metadata": {},
   "outputs": [],
   "source": []
  }
 ],
 "metadata": {
  "kernelspec": {
   "display_name": "jupyter",
   "language": "python",
   "name": "python3"
  },
  "language_info": {
   "codemirror_mode": {
    "name": "ipython",
    "version": 3
   },
   "file_extension": ".py",
   "mimetype": "text/x-python",
   "name": "python",
   "nbconvert_exporter": "python",
   "pygments_lexer": "ipython3",
   "version": "3.13.5"
  }
 },
 "nbformat": 4,
 "nbformat_minor": 5
}
